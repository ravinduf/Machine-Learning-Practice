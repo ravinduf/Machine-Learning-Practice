{
 "cells": [
  {
   "cell_type": "markdown",
   "metadata": {},
   "source": [
    "## Importing Libraries\n"
   ]
  },
  {
   "cell_type": "code",
   "execution_count": 28,
   "metadata": {},
   "outputs": [],
   "source": [
    "import numpy as np\n",
    "import pandas as pd\n",
    "import matplotlib.pyplot as plt\n",
    "from sklearn.cluster import KMeans"
   ]
  },
  {
   "cell_type": "markdown",
   "metadata": {},
   "source": [
    "## Generating data"
   ]
  },
  {
   "cell_type": "code",
   "execution_count": 9,
   "metadata": {
    "scrolled": true
   },
   "outputs": [
    {
     "data": {
      "text/plain": [
       "array([[-0.21865866, -0.02229954],\n",
       "       [-0.25755229, -1.41927835],\n",
       "       [-1.58547894, -0.30027852],\n",
       "       [-0.9695002 , -0.22833353],\n",
       "       [-0.44928321, -1.77645488],\n",
       "       [-1.13114385, -1.37197565],\n",
       "       [-0.95902952, -1.17651107],\n",
       "       [-1.67580787, -1.75311337],\n",
       "       [-0.00768245, -1.73040992],\n",
       "       [-0.35341637, -1.33718379],\n",
       "       [-0.8214946 , -1.98973535],\n",
       "       [-0.0254016 , -0.57758253],\n",
       "       [-1.78512971, -0.13259059],\n",
       "       [-0.1820806 , -1.5526965 ],\n",
       "       [-1.90234414, -1.11417325],\n",
       "       [-0.2042331 , -1.36870392],\n",
       "       [-1.39100343, -0.3234061 ],\n",
       "       [-0.85861502, -1.49166326],\n",
       "       [-0.21450325, -0.35561217],\n",
       "       [-1.2955728 , -1.55402345],\n",
       "       [-1.06449345, -0.38678852],\n",
       "       [-0.84473694, -0.29052151],\n",
       "       [-1.88727678, -0.74528534],\n",
       "       [-1.81928132, -0.05758648],\n",
       "       [-0.87659901, -1.99051863],\n",
       "       [-0.53172433, -1.71075138],\n",
       "       [-0.6106098 , -0.41028761],\n",
       "       [-1.92221962, -0.1194997 ],\n",
       "       [-1.28835333, -0.45114675],\n",
       "       [-0.38905721, -0.77192561],\n",
       "       [-0.04234247, -1.02351687],\n",
       "       [-0.8427157 , -0.29450538],\n",
       "       [-1.79030133, -1.14894112],\n",
       "       [-1.95800305, -1.12053867],\n",
       "       [-1.73748419, -0.9101526 ],\n",
       "       [-0.90831016, -1.30028246],\n",
       "       [-0.49000803, -1.40893871],\n",
       "       [-0.66063308, -0.08249898],\n",
       "       [-0.05506518, -0.38247482],\n",
       "       [-1.53251684, -0.4407973 ],\n",
       "       [-0.081764  , -0.91935545],\n",
       "       [-0.43403328, -0.49751721],\n",
       "       [-0.41609352, -1.71274879],\n",
       "       [-0.41568552, -1.19815527],\n",
       "       [-0.44586415, -1.65197338],\n",
       "       [-1.27210294, -1.73431863],\n",
       "       [-1.56545278, -0.95674509],\n",
       "       [-1.85229669, -0.59733459],\n",
       "       [-1.70566224, -1.87025225],\n",
       "       [-0.1955639 , -1.83014295],\n",
       "       [-0.69001535, -0.48848559],\n",
       "       [-1.010664  , -1.52125589],\n",
       "       [-1.36446282, -0.0200137 ],\n",
       "       [-1.16380626, -0.01913622],\n",
       "       [-1.06160994, -1.63844951],\n",
       "       [-0.60294275, -1.51709675],\n",
       "       [-0.22507142, -0.2529531 ],\n",
       "       [-0.83880659, -0.33746424],\n",
       "       [-1.27807345, -1.90390523],\n",
       "       [-1.61424865, -1.17929623],\n",
       "       [-0.10432164, -1.94722111],\n",
       "       [-0.41653676, -1.07290733],\n",
       "       [-0.25538305, -1.86485395],\n",
       "       [-0.88675962, -0.78469752],\n",
       "       [-0.82894451, -0.9831251 ],\n",
       "       [-0.20372036, -1.37604821],\n",
       "       [-1.63279795, -1.53687313],\n",
       "       [-0.85798478, -0.749243  ],\n",
       "       [-0.46344732, -0.05078448],\n",
       "       [-0.69925084, -1.20737461],\n",
       "       [-0.3192586 , -1.57890244],\n",
       "       [-1.18673609, -0.39599409],\n",
       "       [-0.38951588, -1.53061254],\n",
       "       [-1.66825219, -0.81649556],\n",
       "       [-0.93773232, -0.04860228],\n",
       "       [-0.19370177, -0.31339074],\n",
       "       [-1.48873722, -0.0493412 ],\n",
       "       [-1.84374038, -0.4875054 ],\n",
       "       [-1.22748656, -0.01440854],\n",
       "       [-0.44072748, -1.36936259],\n",
       "       [-1.29912712, -1.85432595],\n",
       "       [-0.36135917, -1.53333044],\n",
       "       [-0.44098263, -1.99906949],\n",
       "       [-1.40330175, -0.90993384],\n",
       "       [-0.23335833, -0.31221243],\n",
       "       [-0.57285985, -0.46557019],\n",
       "       [-1.88278324, -0.10208872],\n",
       "       [-1.24630891, -1.30398057],\n",
       "       [-1.93478751, -0.61143233],\n",
       "       [-0.33074831, -1.36533531],\n",
       "       [-0.18330725, -0.86960214],\n",
       "       [-1.44871175, -0.5928823 ],\n",
       "       [-1.44080058, -0.171623  ],\n",
       "       [-1.37033337, -0.05131835],\n",
       "       [-0.76269856, -0.09115558],\n",
       "       [-1.77642601, -1.2403279 ],\n",
       "       [-0.71743372, -0.78614846],\n",
       "       [-1.4760483 , -1.96026672],\n",
       "       [-1.46033907, -1.46889202],\n",
       "       [-1.29381504, -0.42574995],\n",
       "       [-1.0449176 , -0.16171619],\n",
       "       [-0.98723309, -1.45104234],\n",
       "       [-1.70332516, -0.78188935],\n",
       "       [-1.96176023, -0.67530306],\n",
       "       [-0.86442793, -0.6874019 ],\n",
       "       [-1.19295212, -0.54363617],\n",
       "       [-1.73350482, -0.69430424],\n",
       "       [-1.50553239, -0.61136373],\n",
       "       [-0.19620458, -0.84822806],\n",
       "       [-0.46066266, -1.46118731],\n",
       "       [-1.89803346, -1.49602302],\n",
       "       [-0.94417137, -1.90854995],\n",
       "       [-1.88564991, -0.62791977],\n",
       "       [-1.9257133 , -0.19922631],\n",
       "       [-0.67445498, -1.39262549],\n",
       "       [-1.80122323, -1.23688158],\n",
       "       [-1.72435387, -1.81808467],\n",
       "       [-0.34927462, -1.89440881],\n",
       "       [-0.08499269, -0.35773125],\n",
       "       [-0.73182186, -0.95694875],\n",
       "       [-0.03300115, -0.91353978],\n",
       "       [-1.85102285, -0.9822272 ],\n",
       "       [-0.62397362, -0.50836773],\n",
       "       [-0.50694939, -0.60524785],\n",
       "       [-1.52415011, -1.76618869],\n",
       "       [-1.63859383, -0.41956801],\n",
       "       [-1.12208849, -0.04818952],\n",
       "       [-0.58690348, -0.96347432],\n",
       "       [-0.92889392, -1.73400093],\n",
       "       [-0.35094956, -0.96016013],\n",
       "       [-1.93611015, -1.91162789],\n",
       "       [-0.48593631, -1.43217723],\n",
       "       [-0.5346614 , -1.05034827],\n",
       "       [-1.80441867, -0.44905642],\n",
       "       [-1.51562541, -0.77245526],\n",
       "       [-1.24699992, -1.07871918],\n",
       "       [-1.2362936 , -0.20194625],\n",
       "       [-1.8272173 , -1.96683286],\n",
       "       [-1.49083476, -1.98718796],\n",
       "       [-0.71244485, -0.70679265],\n",
       "       [-0.68523472, -0.24747702],\n",
       "       [-1.69722432, -0.75513414],\n",
       "       [-1.56185295, -1.46837191],\n",
       "       [-0.79956159, -1.82940539],\n",
       "       [-1.14466349, -1.29423904],\n",
       "       [-1.97689261, -0.4528067 ],\n",
       "       [-1.70723292, -1.55147919],\n",
       "       [-1.60315089, -0.81256948],\n",
       "       [-0.40663238, -0.47655991],\n",
       "       [-0.04346903, -1.84597425],\n",
       "       [-1.47139787, -1.53657245],\n",
       "       [-0.75974025, -0.42706351],\n",
       "       [-1.16781833, -1.46657337],\n",
       "       [-0.08325971, -1.78359593],\n",
       "       [-0.57999955, -0.73540702],\n",
       "       [-1.87102077, -0.8849099 ],\n",
       "       [-0.48982814, -0.90423175],\n",
       "       [-0.14463509, -1.80955084],\n",
       "       [-0.61581648, -0.91227402],\n",
       "       [-1.08053267, -0.24579448],\n",
       "       [-0.26212894, -0.82831384],\n",
       "       [-0.89304563, -0.90017981],\n",
       "       [-1.01315513, -1.60044119],\n",
       "       [-1.00340313, -1.04482343],\n",
       "       [-1.8514862 , -1.09075017],\n",
       "       [-1.90254011, -0.73545887],\n",
       "       [-0.02843779, -0.45708236],\n",
       "       [-0.09487339, -0.33787788],\n",
       "       [-1.67648408, -1.46888457],\n",
       "       [-0.95551299, -0.37796263],\n",
       "       [-1.60210917, -1.01181901],\n",
       "       [-0.13488369, -1.36749104],\n",
       "       [-0.67121392, -0.85005977],\n",
       "       [-1.29895398, -0.27287627],\n",
       "       [-1.69779467, -1.61007166],\n",
       "       [-0.18107411, -1.41109779],\n",
       "       [-1.79753487, -1.37722294],\n",
       "       [-0.13789729, -0.0286817 ],\n",
       "       [-1.74487701, -0.27740327],\n",
       "       [-1.77524489, -1.82886038],\n",
       "       [-0.81625   , -0.64362569],\n",
       "       [-0.40629561, -1.90579441],\n",
       "       [-0.16771659, -0.95190065],\n",
       "       [-1.1546846 , -0.88975588],\n",
       "       [-0.82476181, -0.09302614],\n",
       "       [-0.90803223, -1.67250242],\n",
       "       [-1.03412213, -0.47631284],\n",
       "       [-0.81611644, -0.34423967],\n",
       "       [-0.2131964 , -0.63141818],\n",
       "       [-1.50528293, -0.47965655],\n",
       "       [-0.38316427, -0.69333333],\n",
       "       [-0.75674391, -1.35108803],\n",
       "       [-1.12323583, -0.45837171],\n",
       "       [-0.0184259 , -0.47738178],\n",
       "       [-0.77312047, -0.10936006],\n",
       "       [-1.198035  , -1.53249641],\n",
       "       [-0.56110972, -0.13152322],\n",
       "       [-0.26282606, -1.73900703],\n",
       "       [-1.8145516 , -0.05598106],\n",
       "       [-1.76577024, -0.54945102]])"
      ]
     },
     "execution_count": 9,
     "metadata": {},
     "output_type": "execute_result"
    }
   ],
   "source": [
    "x = -2 * np.random.rand(200,2)\n",
    "x"
   ]
  },
  {
   "cell_type": "code",
   "execution_count": 16,
   "metadata": {
    "scrolled": false
   },
   "outputs": [],
   "source": [
    "x0 = 1 + 2 * np.random.rand(100,2)\n",
    "x[100:200, :] = x0"
   ]
  },
  {
   "cell_type": "markdown",
   "metadata": {},
   "source": [
    "## Ploting the data"
   ]
  },
  {
   "cell_type": "code",
   "execution_count": 39,
   "metadata": {},
   "outputs": [
    {
     "data": {
      "image/png": "[encoded data removed]",
      "text/plain": [
       "<Figure size 432x288 with 1 Axes>"
      ]
     },
     "metadata": {
      "needs_background": "light"
     },
     "output_type": "display_data"
    }
   ],
   "source": [
    "plt.scatter(x[ :, 0], x[ :, 1], s = 25, color = 'r') #s determines the size of the data points\n",
    "#plt.show()\n",
    "plt.grid()"
   ]
  },
  {
   "cell_type": "markdown",
   "metadata": {},
   "source": [
    "## Implementing Kmeans clustering"
   ]
  },
  {
   "cell_type": "code",
   "execution_count": 43,
   "metadata": {},
   "outputs": [
    {
     "data": {
      "text/plain": [
       "KMeans(algorithm='auto', copy_x=True, init='k-means++', max_iter=300,\n",
       "       n_clusters=2, n_init=10, n_jobs=None, precompute_distances='auto',\n",
       "       random_state=None, tol=0.0001, verbose=0)"
      ]
     },
     "execution_count": 43,
     "metadata": {},
     "output_type": "execute_result"
    }
   ],
   "source": [
    "Kmean = KMeans(n_clusters = 2)\n",
    "Kmean.fit(x)"
   ]
  },
  {
   "cell_type": "code",
   "execution_count": 44,
   "metadata": {},
   "outputs": [],
   "source": [
    "centers = Kmean.cluster_centers_\n",
    "colors= ['green','blue', 'yellow']"
   ]
  },
  {
   "cell_type": "code",
   "execution_count": 45,
   "metadata": {},
   "outputs": [
    {
     "data": {
      "text/plain": [
       "array([[ 2.01158805,  1.97668389],\n",
       "       [-0.93454449, -0.94762574]])"
      ]
     },
     "execution_count": 45,
     "metadata": {},
     "output_type": "execute_result"
    }
   ],
   "source": [
    "centers"
   ]
  },
  {
   "cell_type": "code",
   "execution_count": 46,
   "metadata": {},
   "outputs": [
    {
     "data": {
      "text/plain": [
       "-0.9345444942250002"
      ]
     },
     "execution_count": 46,
     "metadata": {},
     "output_type": "execute_result"
    }
   ],
   "source": [
    "centers[1,0]"
   ]
  },
  {
   "cell_type": "markdown",
   "metadata": {},
   "source": [
    "## Plotting the data with centeroids"
   ]
  },
  {
   "cell_type": "code",
   "execution_count": 47,
   "metadata": {},
   "outputs": [
    {
     "data": {
      "image/png": "[encoded data removed]",
      "text/plain": [
       "<Figure size 432x288 with 1 Axes>"
      ]
     },
     "metadata": {
      "needs_background": "light"
     },
     "output_type": "display_data"
    }
   ],
   "source": [
    "plt.scatter(x[ :, 0], x[ :, 1], s = 25, color = 'r')\n",
    "for i in range(len(centers)):\n",
    "    plt.scatter(centers[i,0],centers[i,1], s=100, color=colors[i])\n",
    "\n",
    "plt.show()"
   ]
  },
  {
   "cell_type": "markdown",
   "metadata": {},
   "source": [
    "## Testing the model"
   ]
  },
  {
   "cell_type": "code",
   "execution_count": 49,
   "metadata": {},
   "outputs": [
    {
     "data": {
      "text/plain": [
       "array([1, 1, 1, 1, 1, 1, 1, 1, 1, 1, 1, 1, 1, 1, 1, 1, 1, 1, 1, 1, 1, 1,\n",
       "       1, 1, 1, 1, 1, 1, 1, 1, 1, 1, 1, 1, 1, 1, 1, 1, 1, 1, 1, 1, 1, 1,\n",
       "       1, 1, 1, 1, 1, 1, 1, 1, 1, 1, 1, 1, 1, 1, 1, 1, 1, 1, 1, 1, 1, 1,\n",
       "       1, 1, 1, 1, 1, 1, 1, 1, 1, 1, 1, 1, 1, 1, 1, 1, 1, 1, 1, 1, 1, 1,\n",
       "       1, 1, 1, 1, 1, 1, 1, 1, 1, 1, 1, 1, 0, 0, 0, 0, 0, 0, 0, 0, 0, 0,\n",
       "       0, 0, 0, 0, 0, 0, 0, 0, 0, 0, 0, 0, 0, 0, 0, 0, 0, 0, 0, 0, 0, 0,\n",
       "       0, 0, 0, 0, 0, 0, 0, 0, 0, 0, 0, 0, 0, 0, 0, 0, 0, 0, 0, 0, 0, 0,\n",
       "       0, 0, 0, 0, 0, 0, 0, 0, 0, 0, 0, 0, 0, 0, 0, 0, 0, 0, 0, 0, 0, 0,\n",
       "       0, 0, 0, 0, 0, 0, 0, 0, 0, 0, 0, 0, 0, 0, 0, 0, 0, 0, 0, 0, 0, 0,\n",
       "       0, 0])"
      ]
     },
     "execution_count": 49,
     "metadata": {},
     "output_type": "execute_result"
    }
   ],
   "source": [
    "Kmean.labels_\n"
   ]
  },
  {
   "cell_type": "code",
   "execution_count": 52,
   "metadata": {},
   "outputs": [
    {
     "data": {
      "text/plain": [
       "array([4., 5.])"
      ]
     },
     "execution_count": 52,
     "metadata": {},
     "output_type": "execute_result"
    }
   ],
   "source": [
    "sample_test = np.array([4.0, 5.0])\n",
    "sample_test\n"
   ]
  },
  {
   "cell_type": "code",
   "execution_count": 63,
   "metadata": {},
   "outputs": [
    {
     "data": {
      "text/plain": [
       "array([[4., 5.]])"
      ]
     },
     "execution_count": 63,
     "metadata": {},
     "output_type": "execute_result"
    }
   ],
   "source": [
    "second_test = sample_test.reshape(1,-1)\n",
    "second_test"
   ]
  },
  {
   "cell_type": "code",
   "execution_count": 66,
   "metadata": {},
   "outputs": [
    {
     "data": {
      "text/plain": [
       "array([0])"
      ]
     },
     "execution_count": 66,
     "metadata": {},
     "output_type": "execute_result"
    }
   ],
   "source": [
    "Kmean.predict(second_test)"
   ]
  },
  {
   "cell_type": "code",
   "execution_count": null,
   "metadata": {},
   "outputs": [],
   "source": []
  }
 ],
 "metadata": {
  "kernelspec": {
   "display_name": "Python 3",
   "language": "python",
   "name": "python3"
  },
  "language_info": {
   "codemirror_mode": {
    "name": "ipython",
    "version": 3
   },
   "file_extension": ".py",
   "mimetype": "text/x-python",
   "name": "python",
   "nbconvert_exporter": "python",
   "pygments_lexer": "ipython3",
   "version": "3.7.4"
  }
 },
 "nbformat": 4,
 "nbformat_minor": 2
}
