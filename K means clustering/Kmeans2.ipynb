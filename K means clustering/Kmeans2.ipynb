{
 "cells": [
  {
   "cell_type": "markdown",
   "metadata": {},
   "source": [
    "## Importing Libraries\n"
   ]
  },
  {
   "cell_type": "code",
   "execution_count": 1,
   "metadata": {},
   "outputs": [],
   "source": [
    "import numpy as np\n",
    "import pandas as pd\n",
    "import matplotlib.pyplot as plt\n",
    "from sklearn.cluster import KMeans"
   ]
  },
  {
   "cell_type": "markdown",
   "metadata": {},
   "source": [
    "## Generating data"
   ]
  },
  {
   "cell_type": "code",
   "execution_count": 2,
   "metadata": {
    "scrolled": true
   },
   "outputs": [
    {
     "data": {
      "text/plain": [
       "array([[-1.3460238 , -1.46378729],\n",
       "       [-0.66974765, -0.89699689],\n",
       "       [-1.64625409, -0.24854325],\n",
       "       [-1.69973467, -1.83429486],\n",
       "       [-0.55785724, -0.4024249 ],\n",
       "       [-1.48647368, -1.20712697],\n",
       "       [-1.24177579, -0.55841629],\n",
       "       [-1.38680365, -0.82972862],\n",
       "       [-1.40263727, -1.36826051],\n",
       "       [-0.5826651 , -0.37508226],\n",
       "       [-0.66557005, -0.73328522],\n",
       "       [-1.13591906, -1.17161282],\n",
       "       [-0.82032876, -0.84005333],\n",
       "       [-1.48162603, -0.69673342],\n",
       "       [-1.87732337, -1.43657521],\n",
       "       [-0.57687406, -0.49072064],\n",
       "       [-1.33794944, -1.01662048],\n",
       "       [-1.14980794, -0.69802944],\n",
       "       [-1.67933944, -0.19834259],\n",
       "       [-0.61435801, -1.1971843 ],\n",
       "       [-0.25971388, -1.86422237],\n",
       "       [-1.56453013, -1.04864105],\n",
       "       [-0.39176538, -1.26708047],\n",
       "       [-1.04010949, -1.70309651],\n",
       "       [-0.57524387, -0.43512288],\n",
       "       [-1.60122536, -0.01087678],\n",
       "       [-0.38538978, -1.08674885],\n",
       "       [-0.61058435, -1.88852377],\n",
       "       [-0.18829421, -1.52474051],\n",
       "       [-0.90052613, -0.30834813],\n",
       "       [-1.46421796, -1.52286699],\n",
       "       [-1.50472227, -1.12024857],\n",
       "       [-0.44023457, -1.15419804],\n",
       "       [-0.51689033, -1.63410538],\n",
       "       [-0.23916157, -0.12198406],\n",
       "       [-1.52295253, -1.81335984],\n",
       "       [-1.91929698, -1.53306577],\n",
       "       [-0.94274451, -1.36206288],\n",
       "       [-1.87266433, -0.1467915 ],\n",
       "       [-1.49871777, -0.60278602],\n",
       "       [-1.39464922, -1.68243545],\n",
       "       [-0.91621077, -1.90808934],\n",
       "       [-0.91367899, -1.53145296],\n",
       "       [-1.92199276, -1.15636388],\n",
       "       [-1.44405508, -1.54855476],\n",
       "       [-0.31369051, -1.0053984 ],\n",
       "       [-1.71603148, -1.53353028],\n",
       "       [-0.52537129, -0.71369655],\n",
       "       [-1.11624516, -0.95189578],\n",
       "       [-1.29918704, -1.09451624],\n",
       "       [-0.29494246, -0.60450546],\n",
       "       [-1.55363613, -1.53502545],\n",
       "       [-0.01681359, -1.97129266],\n",
       "       [-0.29554711, -0.56536377],\n",
       "       [-1.96274918, -1.69736592],\n",
       "       [-0.04024687, -0.36512465],\n",
       "       [-0.19878829, -1.90878793],\n",
       "       [-0.23134905, -0.55279158],\n",
       "       [-1.48595267, -0.59457942],\n",
       "       [-0.11298963, -1.42422622],\n",
       "       [-1.82573934, -1.77831457],\n",
       "       [-0.26536378, -1.36973607],\n",
       "       [-1.9962805 , -1.14485474],\n",
       "       [-0.40238375, -1.0655481 ],\n",
       "       [-0.88959146, -1.61826019],\n",
       "       [-1.51500053, -0.60006802],\n",
       "       [-1.96905488, -0.52091149],\n",
       "       [-0.71674461, -1.13734983],\n",
       "       [-0.63192412, -0.0988426 ],\n",
       "       [-0.72685992, -0.18664303],\n",
       "       [-0.33018558, -0.19048923],\n",
       "       [-0.68700051, -0.45519529],\n",
       "       [-1.06786519, -0.54699212],\n",
       "       [-0.96516421, -0.61296107],\n",
       "       [-0.96651274, -1.15845703],\n",
       "       [-0.03588086, -0.41954016],\n",
       "       [-0.43793103, -1.4148148 ],\n",
       "       [-0.45063796, -1.85105131],\n",
       "       [-1.95095741, -0.14484563],\n",
       "       [-0.92008119, -0.29555616],\n",
       "       [-1.9358511 , -1.14998551],\n",
       "       [-1.50462396, -0.61674569],\n",
       "       [-1.65084528, -0.7107024 ],\n",
       "       [-1.05505189, -1.06726635],\n",
       "       [-0.87464676, -0.65685701],\n",
       "       [-0.95535942, -0.77526704],\n",
       "       [-1.63593379, -0.08726785],\n",
       "       [-0.05399441, -1.54559268],\n",
       "       [-1.4462671 , -0.17640504],\n",
       "       [-1.22707891, -0.47959056],\n",
       "       [-1.85802283, -0.34206158],\n",
       "       [-0.10653456, -0.65981948],\n",
       "       [-1.70015618, -1.64408163],\n",
       "       [-1.85251171, -1.08713827],\n",
       "       [-1.90858924, -1.10014409],\n",
       "       [-0.84424693, -1.13962477],\n",
       "       [-1.54866406, -0.6227621 ],\n",
       "       [-0.00795962, -1.82115353],\n",
       "       [-1.57562656, -1.35191751],\n",
       "       [-0.66904941, -1.0177066 ],\n",
       "       [-1.09029181, -1.76703186],\n",
       "       [-0.9751766 , -0.6539965 ],\n",
       "       [-1.56784388, -0.1461442 ],\n",
       "       [-1.42785142, -0.9508125 ],\n",
       "       [-1.18775796, -1.96319896],\n",
       "       [-1.8624667 , -0.45631467],\n",
       "       [-1.54884345, -1.02513545],\n",
       "       [-0.37198723, -0.7880233 ],\n",
       "       [-0.2915249 , -0.49913299],\n",
       "       [-1.55692059, -0.62876569],\n",
       "       [-1.19073484, -1.03391419],\n",
       "       [-1.62513694, -1.45895428],\n",
       "       [-0.56807543, -1.77798328],\n",
       "       [-0.51316246, -1.67534557],\n",
       "       [-0.48992115, -0.68885888],\n",
       "       [-1.91215526, -0.82293833],\n",
       "       [-0.35508509, -1.02821545],\n",
       "       [-1.23326352, -0.8450261 ],\n",
       "       [-1.0421246 , -1.01511202],\n",
       "       [-0.52339239, -1.50205008],\n",
       "       [-0.33978393, -0.3076373 ],\n",
       "       [-0.61756985, -1.43776067],\n",
       "       [-0.16961197, -0.52881268],\n",
       "       [-1.24001509, -0.58633227],\n",
       "       [-1.69738296, -1.09875048],\n",
       "       [-0.03377913, -1.37157986],\n",
       "       [-1.20102892, -1.34947895],\n",
       "       [-0.83796122, -0.40685187],\n",
       "       [-1.564696  , -0.44151077],\n",
       "       [-0.79657081, -1.69921653],\n",
       "       [-0.06558548, -0.06812403],\n",
       "       [-0.96854524, -0.92719636],\n",
       "       [-1.78383973, -0.15965325],\n",
       "       [-1.24479439, -0.34472369],\n",
       "       [-1.08987377, -1.81307367],\n",
       "       [-1.93918287, -1.76494393],\n",
       "       [-0.09537913, -0.18451957],\n",
       "       [-0.50397235, -0.27179131],\n",
       "       [-0.59215999, -1.69352923],\n",
       "       [-0.80170245, -1.77192187],\n",
       "       [-0.45676065, -0.38038487],\n",
       "       [-0.97486826, -1.93136895],\n",
       "       [-0.76859379, -0.00561035],\n",
       "       [-0.61892747, -0.67110538],\n",
       "       [-1.73240173, -1.83658982],\n",
       "       [-0.73255635, -0.19343437],\n",
       "       [-1.3442159 , -1.84226313],\n",
       "       [-0.39953367, -0.88395325],\n",
       "       [-1.54456105, -0.30438559],\n",
       "       [-1.76154373, -1.1008103 ],\n",
       "       [-0.324246  , -0.45402324],\n",
       "       [-1.46402989, -1.77359492],\n",
       "       [-0.49047611, -1.17294131],\n",
       "       [-0.14480135, -0.99835359],\n",
       "       [-0.48457521, -1.53116759],\n",
       "       [-1.58430355, -1.88492704],\n",
       "       [-1.07979626, -1.13616494],\n",
       "       [-0.23468913, -1.17162075],\n",
       "       [-0.57786143, -0.18479419],\n",
       "       [-1.08205317, -1.03910047],\n",
       "       [-1.42051594, -1.94436024],\n",
       "       [-0.7061379 , -1.8318863 ],\n",
       "       [-1.1948178 , -0.69022112],\n",
       "       [-0.26025601, -0.48950378],\n",
       "       [-1.99464352, -0.63312376],\n",
       "       [-0.85199234, -1.01990044],\n",
       "       [-1.73044529, -0.5931842 ],\n",
       "       [-1.50371781, -1.04895953],\n",
       "       [-1.69396071, -0.57234938],\n",
       "       [-0.16186906, -0.07527433],\n",
       "       [-0.47226714, -1.92201337],\n",
       "       [-1.43724358, -0.22975709],\n",
       "       [-1.99587643, -0.0135031 ],\n",
       "       [-1.71232368, -0.20034205],\n",
       "       [-0.86271183, -0.16880965],\n",
       "       [-1.69206939, -0.00602632],\n",
       "       [-0.19437048, -1.54120743],\n",
       "       [-0.53875586, -0.09076901],\n",
       "       [-1.77484665, -0.48968052],\n",
       "       [-1.39322737, -1.0306913 ],\n",
       "       [-0.91816984, -0.02683392],\n",
       "       [-0.93794867, -1.0899688 ],\n",
       "       [-1.96792578, -0.6532618 ],\n",
       "       [-0.01444908, -1.2030229 ],\n",
       "       [-1.91216942, -0.81406984],\n",
       "       [-0.90019101, -1.98251023],\n",
       "       [-1.01065185, -0.65744266],\n",
       "       [-0.30518574, -0.33626786],\n",
       "       [-1.37539279, -0.87593952],\n",
       "       [-0.82397374, -1.15104391],\n",
       "       [-1.80197064, -0.88820736],\n",
       "       [-0.65361113, -1.70131333],\n",
       "       [-1.27528218, -0.27046569],\n",
       "       [-1.48847328, -0.31398241],\n",
       "       [-1.51592481, -0.27699886],\n",
       "       [-0.2544951 , -1.67040617],\n",
       "       [-0.25427238, -0.73512073],\n",
       "       [-1.49809367, -0.33507688],\n",
       "       [-0.04964397, -0.14576473],\n",
       "       [-0.58455984, -1.93934721]])"
      ]
     },
     "execution_count": 2,
     "metadata": {},
     "output_type": "execute_result"
    }
   ],
   "source": [
    "x = -2 * np.random.rand(200,2)\n",
    "x"
   ]
  },
  {
   "cell_type": "code",
   "execution_count": 3,
   "metadata": {
    "scrolled": false
   },
   "outputs": [],
   "source": [
    "x0 = 1 + 2 * np.random.rand(100,2)\n",
    "x[100:200, :] = x0"
   ]
  },
  {
   "cell_type": "markdown",
   "metadata": {},
   "source": [
    "## Ploting the data"
   ]
  },
  {
   "cell_type": "code",
   "execution_count": 4,
   "metadata": {},
   "outputs": [
    {
     "data": {
      "image/png": "[encoded data removed]",
      "text/plain": [
       "<Figure size 432x288 with 1 Axes>"
      ]
     },
     "metadata": {
      "needs_background": "light"
     },
     "output_type": "display_data"
    }
   ],
   "source": [
    "plt.scatter(x[ :, 0], x[ :, 1], s = 25, color = 'r') #s determines the size of the data points\n",
    "#plt.show()\n",
    "plt.grid()"
   ]
  },
  {
   "cell_type": "markdown",
   "metadata": {},
   "source": [
    "## Implementing Kmeans clustering"
   ]
  },
  {
   "cell_type": "code",
   "execution_count": 5,
   "metadata": {},
   "outputs": [
    {
     "data": {
      "text/plain": [
       "KMeans(algorithm='auto', copy_x=True, init='k-means++', max_iter=300,\n",
       "       n_clusters=2, n_init=10, n_jobs=None, precompute_distances='auto',\n",
       "       random_state=None, tol=0.0001, verbose=0)"
      ]
     },
     "execution_count": 5,
     "metadata": {},
     "output_type": "execute_result"
    }
   ],
   "source": [
    "Kmean = KMeans(n_clusters = 2)\n",
    "Kmean.fit(x)"
   ]
  },
  {
   "cell_type": "code",
   "execution_count": 6,
   "metadata": {},
   "outputs": [],
   "source": [
    "centers = Kmean.cluster_centers_\n",
    "colors= ['green','blue', 'yellow']"
   ]
  },
  {
   "cell_type": "code",
   "execution_count": 7,
   "metadata": {},
   "outputs": [
    {
     "data": {
      "text/plain": [
       "array([[-1.03714355, -0.98820208],\n",
       "       [ 2.05864212,  2.03847972]])"
      ]
     },
     "execution_count": 7,
     "metadata": {},
     "output_type": "execute_result"
    }
   ],
   "source": [
    "centers"
   ]
  },
  {
   "cell_type": "code",
   "execution_count": 8,
   "metadata": {},
   "outputs": [
    {
     "data": {
      "text/plain": [
       "2.0586421178165675"
      ]
     },
     "execution_count": 8,
     "metadata": {},
     "output_type": "execute_result"
    }
   ],
   "source": [
    "centers[1,0]"
   ]
  },
  {
   "cell_type": "markdown",
   "metadata": {},
   "source": [
    "## Plotting the data with centeroids"
   ]
  },
  {
   "cell_type": "code",
   "execution_count": 9,
   "metadata": {},
   "outputs": [
    {
     "data": {
      "image/png": "[encoded data removed]",
      "text/plain": [
       "<Figure size 432x288 with 1 Axes>"
      ]
     },
     "metadata": {
      "needs_background": "light"
     },
     "output_type": "display_data"
    }
   ],
   "source": [
    "plt.scatter(x[ :, 0], x[ :, 1], s = 25, color = 'r')\n",
    "for i in range(len(centers)):\n",
    "    plt.scatter(centers[i,0],centers[i,1], s=100, color=colors[i])\n",
    "\n",
    "plt.show()"
   ]
  },
  {
   "cell_type": "markdown",
   "metadata": {},
   "source": [
    "## Testing the model"
   ]
  },
  {
   "cell_type": "code",
   "execution_count": 10,
   "metadata": {},
   "outputs": [
    {
     "data": {
      "text/plain": [
       "array([0, 0, 0, 0, 0, 0, 0, 0, 0, 0, 0, 0, 0, 0, 0, 0, 0, 0, 0, 0, 0, 0,\n",
       "       0, 0, 0, 0, 0, 0, 0, 0, 0, 0, 0, 0, 0, 0, 0, 0, 0, 0, 0, 0, 0, 0,\n",
       "       0, 0, 0, 0, 0, 0, 0, 0, 0, 0, 0, 0, 0, 0, 0, 0, 0, 0, 0, 0, 0, 0,\n",
       "       0, 0, 0, 0, 0, 0, 0, 0, 0, 0, 0, 0, 0, 0, 0, 0, 0, 0, 0, 0, 0, 0,\n",
       "       0, 0, 0, 0, 0, 0, 0, 0, 0, 0, 0, 0, 1, 1, 1, 1, 1, 1, 1, 1, 1, 1,\n",
       "       1, 1, 1, 1, 1, 1, 1, 1, 1, 1, 1, 1, 1, 1, 1, 1, 1, 1, 1, 1, 1, 1,\n",
       "       1, 1, 1, 1, 1, 1, 1, 1, 1, 1, 1, 1, 1, 1, 1, 1, 1, 1, 1, 1, 1, 1,\n",
       "       1, 1, 1, 1, 1, 1, 1, 1, 1, 1, 1, 1, 1, 1, 1, 1, 1, 1, 1, 1, 1, 1,\n",
       "       1, 1, 1, 1, 1, 1, 1, 1, 1, 1, 1, 1, 1, 1, 1, 1, 1, 1, 1, 1, 1, 1,\n",
       "       1, 1])"
      ]
     },
     "execution_count": 10,
     "metadata": {},
     "output_type": "execute_result"
    }
   ],
   "source": [
    "Kmean.labels_\n"
   ]
  },
  {
   "cell_type": "code",
   "execution_count": 11,
   "metadata": {},
   "outputs": [
    {
     "data": {
      "text/plain": [
       "array([4., 5.])"
      ]
     },
     "execution_count": 11,
     "metadata": {},
     "output_type": "execute_result"
    }
   ],
   "source": [
    "sample_test = np.array([4.0, 5.0])\n",
    "sample_test\n"
   ]
  },
  {
   "cell_type": "code",
   "execution_count": 16,
   "metadata": {},
   "outputs": [
    {
     "name": "stdout",
     "output_type": "stream",
     "text": [
      "[[4. 5.]]\n"
     ]
    }
   ],
   "source": [
    "second_test = sample_test.reshape(1,-1)\n",
    "second_test # since the x dataset is "
   ]
  },
  {
   "cell_type": "code",
   "execution_count": 17,
   "metadata": {},
   "outputs": [
    {
     "data": {
      "text/plain": [
       "array([1])"
      ]
     },
     "execution_count": 17,
     "metadata": {},
     "output_type": "execute_result"
    }
   ],
   "source": [
    "Kmean.predict(second_test)"
   ]
  },
  {
   "cell_type": "code",
   "execution_count": null,
   "metadata": {},
   "outputs": [],
   "source": []
  }
 ],
 "metadata": {
  "kernelspec": {
   "display_name": "Python 3",
   "language": "python",
   "name": "python3"
  },
  "language_info": {
   "codemirror_mode": {
    "name": "ipython",
    "version": 3
   },
   "file_extension": ".py",
   "mimetype": "text/x-python",
   "name": "python",
   "nbconvert_exporter": "python",
   "pygments_lexer": "ipython3",
   "version": "3.7.4"
  }
 },
 "nbformat": 4,
 "nbformat_minor": 2
}
